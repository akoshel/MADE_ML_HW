{
 "cells": [
  {
   "cell_type": "markdown",
   "metadata": {},
   "source": [
    "## Imports"
   ]
  },
  {
   "cell_type": "code",
   "execution_count": 27,
   "metadata": {},
   "outputs": [],
   "source": [
    "import pandas as pd\n",
    "import numpy as np\n",
    "import joblib\n",
    "from sklearn.tree import DecisionTreeClassifier, plot_tree\n",
    "import matplotlib.pyplot as plt"
   ]
  },
  {
   "cell_type": "markdown",
   "metadata": {},
   "source": [
    "## Build model"
   ]
  },
  {
   "cell_type": "code",
   "execution_count": 2,
   "metadata": {},
   "outputs": [],
   "source": [
    "data = pd.read_csv('train.csv')"
   ]
  },
  {
   "cell_type": "code",
   "execution_count": 3,
   "metadata": {},
   "outputs": [
    {
     "data": {
      "text/html": [
       "<div>\n",
       "<style scoped>\n",
       "    .dataframe tbody tr th:only-of-type {\n",
       "        vertical-align: middle;\n",
       "    }\n",
       "\n",
       "    .dataframe tbody tr th {\n",
       "        vertical-align: top;\n",
       "    }\n",
       "\n",
       "    .dataframe thead th {\n",
       "        text-align: right;\n",
       "    }\n",
       "</style>\n",
       "<table border=\"1\" class=\"dataframe\">\n",
       "  <thead>\n",
       "    <tr style=\"text-align: right;\">\n",
       "      <th></th>\n",
       "      <th>PassengerId</th>\n",
       "      <th>Survived</th>\n",
       "      <th>Pclass</th>\n",
       "      <th>Name</th>\n",
       "      <th>Sex</th>\n",
       "      <th>Age</th>\n",
       "      <th>SibSp</th>\n",
       "      <th>Parch</th>\n",
       "      <th>Ticket</th>\n",
       "      <th>Fare</th>\n",
       "      <th>Cabin</th>\n",
       "      <th>Embarked</th>\n",
       "    </tr>\n",
       "  </thead>\n",
       "  <tbody>\n",
       "    <tr>\n",
       "      <th>0</th>\n",
       "      <td>1</td>\n",
       "      <td>0</td>\n",
       "      <td>3</td>\n",
       "      <td>Braund, Mr. Owen Harris</td>\n",
       "      <td>male</td>\n",
       "      <td>22.0</td>\n",
       "      <td>1</td>\n",
       "      <td>0</td>\n",
       "      <td>A/5 21171</td>\n",
       "      <td>7.2500</td>\n",
       "      <td>NaN</td>\n",
       "      <td>S</td>\n",
       "    </tr>\n",
       "    <tr>\n",
       "      <th>1</th>\n",
       "      <td>2</td>\n",
       "      <td>1</td>\n",
       "      <td>1</td>\n",
       "      <td>Cumings, Mrs. John Bradley (Florence Briggs Th...</td>\n",
       "      <td>female</td>\n",
       "      <td>38.0</td>\n",
       "      <td>1</td>\n",
       "      <td>0</td>\n",
       "      <td>PC 17599</td>\n",
       "      <td>71.2833</td>\n",
       "      <td>C85</td>\n",
       "      <td>C</td>\n",
       "    </tr>\n",
       "    <tr>\n",
       "      <th>2</th>\n",
       "      <td>3</td>\n",
       "      <td>1</td>\n",
       "      <td>3</td>\n",
       "      <td>Heikkinen, Miss. Laina</td>\n",
       "      <td>female</td>\n",
       "      <td>26.0</td>\n",
       "      <td>0</td>\n",
       "      <td>0</td>\n",
       "      <td>STON/O2. 3101282</td>\n",
       "      <td>7.9250</td>\n",
       "      <td>NaN</td>\n",
       "      <td>S</td>\n",
       "    </tr>\n",
       "    <tr>\n",
       "      <th>3</th>\n",
       "      <td>4</td>\n",
       "      <td>1</td>\n",
       "      <td>1</td>\n",
       "      <td>Futrelle, Mrs. Jacques Heath (Lily May Peel)</td>\n",
       "      <td>female</td>\n",
       "      <td>35.0</td>\n",
       "      <td>1</td>\n",
       "      <td>0</td>\n",
       "      <td>113803</td>\n",
       "      <td>53.1000</td>\n",
       "      <td>C123</td>\n",
       "      <td>S</td>\n",
       "    </tr>\n",
       "    <tr>\n",
       "      <th>4</th>\n",
       "      <td>5</td>\n",
       "      <td>0</td>\n",
       "      <td>3</td>\n",
       "      <td>Allen, Mr. William Henry</td>\n",
       "      <td>male</td>\n",
       "      <td>35.0</td>\n",
       "      <td>0</td>\n",
       "      <td>0</td>\n",
       "      <td>373450</td>\n",
       "      <td>8.0500</td>\n",
       "      <td>NaN</td>\n",
       "      <td>S</td>\n",
       "    </tr>\n",
       "  </tbody>\n",
       "</table>\n",
       "</div>"
      ],
      "text/plain": [
       "   PassengerId  Survived  Pclass  \\\n",
       "0            1         0       3   \n",
       "1            2         1       1   \n",
       "2            3         1       3   \n",
       "3            4         1       1   \n",
       "4            5         0       3   \n",
       "\n",
       "                                                Name     Sex   Age  SibSp  \\\n",
       "0                            Braund, Mr. Owen Harris    male  22.0      1   \n",
       "1  Cumings, Mrs. John Bradley (Florence Briggs Th...  female  38.0      1   \n",
       "2                             Heikkinen, Miss. Laina  female  26.0      0   \n",
       "3       Futrelle, Mrs. Jacques Heath (Lily May Peel)  female  35.0      1   \n",
       "4                           Allen, Mr. William Henry    male  35.0      0   \n",
       "\n",
       "   Parch            Ticket     Fare Cabin Embarked  \n",
       "0      0         A/5 21171   7.2500   NaN        S  \n",
       "1      0          PC 17599  71.2833   C85        C  \n",
       "2      0  STON/O2. 3101282   7.9250   NaN        S  \n",
       "3      0            113803  53.1000  C123        S  \n",
       "4      0            373450   8.0500   NaN        S  "
      ]
     },
     "execution_count": 3,
     "metadata": {},
     "output_type": "execute_result"
    }
   ],
   "source": [
    "data.head()"
   ]
  },
  {
   "cell_type": "code",
   "execution_count": 4,
   "metadata": {},
   "outputs": [
    {
     "data": {
      "text/plain": [
       "PassengerId      0\n",
       "Survived         0\n",
       "Pclass           0\n",
       "Name             0\n",
       "Sex              0\n",
       "Age            177\n",
       "SibSp            0\n",
       "Parch            0\n",
       "Ticket           0\n",
       "Fare             0\n",
       "Cabin          687\n",
       "Embarked         2\n",
       "dtype: int64"
      ]
     },
     "execution_count": 4,
     "metadata": {},
     "output_type": "execute_result"
    }
   ],
   "source": [
    "data.isna().sum()"
   ]
  },
  {
   "cell_type": "code",
   "execution_count": 5,
   "metadata": {},
   "outputs": [],
   "source": [
    "data[\"Age\"] = data[\"Age\"].fillna(data[\"Age\"].mean())\n",
    "data[\"Cabin\"] = data[\"Cabin\"].fillna(data[\"Cabin\"].mode()[0])\n",
    "data[\"Embarked\"] = data[\"Embarked\"].fillna(data[\"Embarked\"].mode()[0])"
   ]
  },
  {
   "cell_type": "code",
   "execution_count": 6,
   "metadata": {},
   "outputs": [],
   "source": [
    "data[\"Sex\"] = [1 if i == \"male\" else 0 for i in data[\"Sex\"]]"
   ]
  },
  {
   "cell_type": "code",
   "execution_count": 7,
   "metadata": {},
   "outputs": [],
   "source": [
    "data[\"Embarked\"] = [0 if i == \"S\" else i for i in data[\"Embarked\"]] # S = 0\n",
    "data[\"Embarked\"] = [1 if i == \"C\" else i for i in data[\"Embarked\"]] # C = 1\n",
    "data[\"Embarked\"] = [2 if i == \"Q\" else i for i in data[\"Embarked\"]] # Q = 2"
   ]
  },
  {
   "cell_type": "code",
   "execution_count": 8,
   "metadata": {},
   "outputs": [],
   "source": [
    "feature_cols = [\"Pclass\", \"Age\", \"Sex\", \"Embarked\"]"
   ]
  },
  {
   "cell_type": "code",
   "execution_count": 9,
   "metadata": {},
   "outputs": [
    {
     "data": {
      "text/plain": [
       "(891, 12)"
      ]
     },
     "execution_count": 9,
     "metadata": {},
     "output_type": "execute_result"
    }
   ],
   "source": [
    "data.shape"
   ]
  },
  {
   "cell_type": "code",
   "execution_count": 41,
   "metadata": {},
   "outputs": [
    {
     "data": {
      "text/plain": [
       "DecisionTreeClassifier(max_depth=6)"
      ]
     },
     "execution_count": 41,
     "metadata": {},
     "output_type": "execute_result"
    }
   ],
   "source": [
    "model = DecisionTreeClassifier(max_depth=6) \n",
    "model.fit(data[feature_cols], data[\"Survived\"]) "
   ]
  },
  {
   "cell_type": "code",
   "execution_count": 42,
   "metadata": {},
   "outputs": [
    {
     "data": {
      "text/plain": [
       "array([0.10847458, 1.        , 0.46      , 1.        , 0.02380952,\n",
       "       0.10847458, 0.        , 0.2       , 0.46      , 1.        ])"
      ]
     },
     "execution_count": 42,
     "metadata": {},
     "output_type": "execute_result"
    }
   ],
   "source": [
    "model.predict_proba(data[feature_cols])[:, 1][:10]"
   ]
  },
  {
   "cell_type": "code",
   "execution_count": 43,
   "metadata": {},
   "outputs": [
    {
     "data": {
      "text/plain": [
       "0    0\n",
       "1    1\n",
       "2    1\n",
       "3    1\n",
       "4    0\n",
       "5    0\n",
       "6    0\n",
       "7    0\n",
       "8    1\n",
       "9    1\n",
       "Name: Survived, dtype: int64"
      ]
     },
     "execution_count": 43,
     "metadata": {},
     "output_type": "execute_result"
    }
   ],
   "source": [
    "data[\"Survived\"][:10]"
   ]
  },
  {
   "cell_type": "code",
   "execution_count": 44,
   "metadata": {},
   "outputs": [],
   "source": [
    "sample = {\n",
    "    'Pclass': [1],\n",
    "    'Age': [38],\n",
    "    'Sex': [1],\n",
    "    'Embarked': [1]\n",
    "}"
   ]
  },
  {
   "cell_type": "code",
   "execution_count": 45,
   "metadata": {},
   "outputs": [
    {
     "data": {
      "text/html": [
       "<div>\n",
       "<style scoped>\n",
       "    .dataframe tbody tr th:only-of-type {\n",
       "        vertical-align: middle;\n",
       "    }\n",
       "\n",
       "    .dataframe tbody tr th {\n",
       "        vertical-align: top;\n",
       "    }\n",
       "\n",
       "    .dataframe thead th {\n",
       "        text-align: right;\n",
       "    }\n",
       "</style>\n",
       "<table border=\"1\" class=\"dataframe\">\n",
       "  <thead>\n",
       "    <tr style=\"text-align: right;\">\n",
       "      <th></th>\n",
       "      <th>Pclass</th>\n",
       "      <th>Age</th>\n",
       "      <th>Sex</th>\n",
       "      <th>Embarked</th>\n",
       "    </tr>\n",
       "  </thead>\n",
       "  <tbody>\n",
       "    <tr>\n",
       "      <th>0</th>\n",
       "      <td>1</td>\n",
       "      <td>38</td>\n",
       "      <td>1</td>\n",
       "      <td>1</td>\n",
       "    </tr>\n",
       "  </tbody>\n",
       "</table>\n",
       "</div>"
      ],
      "text/plain": [
       "   Pclass  Age  Sex  Embarked\n",
       "0       1   38    1         1"
      ]
     },
     "execution_count": 45,
     "metadata": {},
     "output_type": "execute_result"
    }
   ],
   "source": [
    "pd.DataFrame.from_dict(sample)"
   ]
  },
  {
   "cell_type": "code",
   "execution_count": 46,
   "metadata": {},
   "outputs": [
    {
     "data": {
      "text/html": [
       "<div>\n",
       "<style scoped>\n",
       "    .dataframe tbody tr th:only-of-type {\n",
       "        vertical-align: middle;\n",
       "    }\n",
       "\n",
       "    .dataframe tbody tr th {\n",
       "        vertical-align: top;\n",
       "    }\n",
       "\n",
       "    .dataframe thead th {\n",
       "        text-align: right;\n",
       "    }\n",
       "</style>\n",
       "<table border=\"1\" class=\"dataframe\">\n",
       "  <thead>\n",
       "    <tr style=\"text-align: right;\">\n",
       "      <th></th>\n",
       "      <th>Pclass</th>\n",
       "      <th>Age</th>\n",
       "      <th>Sex</th>\n",
       "      <th>Embarked</th>\n",
       "      <th>Survived</th>\n",
       "    </tr>\n",
       "  </thead>\n",
       "  <tbody>\n",
       "    <tr>\n",
       "      <th>1</th>\n",
       "      <td>1</td>\n",
       "      <td>38.0</td>\n",
       "      <td>0</td>\n",
       "      <td>1</td>\n",
       "      <td>1</td>\n",
       "    </tr>\n",
       "  </tbody>\n",
       "</table>\n",
       "</div>"
      ],
      "text/plain": [
       "   Pclass   Age  Sex  Embarked  Survived\n",
       "1       1  38.0    0         1         1"
      ]
     },
     "execution_count": 46,
     "metadata": {},
     "output_type": "execute_result"
    }
   ],
   "source": [
    "data[feature_cols + ['Survived']].iloc[1:2]"
   ]
  },
  {
   "cell_type": "code",
   "execution_count": 47,
   "metadata": {},
   "outputs": [
    {
     "data": {
      "text/plain": [
       "array([0.41758242])"
      ]
     },
     "execution_count": 47,
     "metadata": {},
     "output_type": "execute_result"
    }
   ],
   "source": [
    "model.predict_proba(pd.DataFrame.from_dict(sample))[:, 1]"
   ]
  },
  {
   "cell_type": "markdown",
   "metadata": {},
   "source": [
    "## Show tree"
   ]
  },
  {
   "cell_type": "code",
   "execution_count": 49,
   "metadata": {},
   "outputs": [
    {
     "data": {
      "text/plain": [
       "[Text(212.30402542372883, 420.64285714285717, 'Sex <= 0.5\\ngini = 0.473\\nsamples = 891\\nvalue = [549, 342]\\nclass = Survived'),\n",
       " Text(112.30932203389831, 355.92857142857144, 'Pclass <= 2.5\\ngini = 0.383\\nsamples = 314\\nvalue = [81, 233]\\nclass = Died'),\n",
       " Text(41.3771186440678, 291.2142857142857, 'Age <= 2.5\\ngini = 0.1\\nsamples = 170\\nvalue = [9, 161]\\nclass = Died'),\n",
       " Text(15.76271186440678, 226.50000000000003, 'Pclass <= 1.5\\ngini = 0.5\\nsamples = 2\\nvalue = [1, 1]\\nclass = Survived'),\n",
       " Text(7.88135593220339, 161.78571428571433, 'gini = 0.0\\nsamples = 1\\nvalue = [1, 0]\\nclass = Survived'),\n",
       " Text(23.64406779661017, 161.78571428571433, 'gini = 0.0\\nsamples = 1\\nvalue = [0, 1]\\nclass = Died'),\n",
       " Text(66.99152542372882, 226.50000000000003, 'Pclass <= 1.5\\ngini = 0.091\\nsamples = 168\\nvalue = [8, 160]\\nclass = Died'),\n",
       " Text(39.40677966101695, 161.78571428571433, 'Age <= 49.5\\ngini = 0.042\\nsamples = 93\\nvalue = [2, 91]\\nclass = Died'),\n",
       " Text(23.64406779661017, 97.07142857142861, 'Age <= 25.5\\ngini = 0.025\\nsamples = 78\\nvalue = [1, 77]\\nclass = Died'),\n",
       " Text(15.76271186440678, 32.35714285714289, 'gini = 0.071\\nsamples = 27\\nvalue = [1, 26]\\nclass = Died'),\n",
       " Text(31.52542372881356, 32.35714285714289, 'gini = 0.0\\nsamples = 51\\nvalue = [0, 51]\\nclass = Died'),\n",
       " Text(55.16949152542373, 97.07142857142861, 'Age <= 50.5\\ngini = 0.124\\nsamples = 15\\nvalue = [1, 14]\\nclass = Died'),\n",
       " Text(47.28813559322034, 32.35714285714289, 'gini = 0.5\\nsamples = 2\\nvalue = [1, 1]\\nclass = Survived'),\n",
       " Text(63.05084745762712, 32.35714285714289, 'gini = 0.0\\nsamples = 13\\nvalue = [0, 13]\\nclass = Died'),\n",
       " Text(94.57627118644068, 161.78571428571433, 'Age <= 56.0\\ngini = 0.147\\nsamples = 75\\nvalue = [6, 69]\\nclass = Died'),\n",
       " Text(86.69491525423729, 97.07142857142861, 'Age <= 23.5\\ngini = 0.126\\nsamples = 74\\nvalue = [5, 69]\\nclass = Died'),\n",
       " Text(78.8135593220339, 32.35714285714289, 'gini = 0.0\\nsamples = 19\\nvalue = [0, 19]\\nclass = Died'),\n",
       " Text(94.57627118644068, 32.35714285714289, 'gini = 0.165\\nsamples = 55\\nvalue = [5, 50]\\nclass = Died'),\n",
       " Text(102.45762711864407, 97.07142857142861, 'gini = 0.0\\nsamples = 1\\nvalue = [1, 0]\\nclass = Survived'),\n",
       " Text(183.24152542372883, 291.2142857142857, 'Embarked <= 0.5\\ngini = 0.5\\nsamples = 144\\nvalue = [72, 72]\\nclass = Survived'),\n",
       " Text(153.68644067796612, 226.50000000000003, 'Age <= 38.5\\ngini = 0.469\\nsamples = 88\\nvalue = [55, 33]\\nclass = Survived'),\n",
       " Text(133.98305084745763, 161.78571428571433, 'Age <= 32.0\\ngini = 0.484\\nsamples = 78\\nvalue = [46, 32]\\nclass = Survived'),\n",
       " Text(118.22033898305085, 97.07142857142861, 'Age <= 27.5\\ngini = 0.473\\nsamples = 73\\nvalue = [45, 28]\\nclass = Survived'),\n",
       " Text(110.33898305084746, 32.35714285714289, 'gini = 0.497\\nsamples = 50\\nvalue = [27, 23]\\nclass = Survived'),\n",
       " Text(126.10169491525424, 32.35714285714289, 'gini = 0.34\\nsamples = 23\\nvalue = [18, 5]\\nclass = Survived'),\n",
       " Text(149.74576271186442, 97.07142857142861, 'Age <= 36.5\\ngini = 0.32\\nsamples = 5\\nvalue = [1, 4]\\nclass = Died'),\n",
       " Text(141.864406779661, 32.35714285714289, 'gini = 0.0\\nsamples = 3\\nvalue = [0, 3]\\nclass = Died'),\n",
       " Text(157.6271186440678, 32.35714285714289, 'gini = 0.5\\nsamples = 2\\nvalue = [1, 1]\\nclass = Survived'),\n",
       " Text(173.38983050847457, 161.78571428571433, 'Age <= 55.5\\ngini = 0.18\\nsamples = 10\\nvalue = [9, 1]\\nclass = Survived'),\n",
       " Text(165.5084745762712, 97.07142857142861, 'gini = 0.0\\nsamples = 9\\nvalue = [9, 0]\\nclass = Survived'),\n",
       " Text(181.27118644067798, 97.07142857142861, 'gini = 0.0\\nsamples = 1\\nvalue = [0, 1]\\nclass = Died'),\n",
       " Text(212.79661016949154, 226.50000000000003, 'Age <= 30.1\\ngini = 0.423\\nsamples = 56\\nvalue = [17, 39]\\nclass = Died'),\n",
       " Text(204.91525423728814, 161.78571428571433, 'Age <= 7.0\\ngini = 0.375\\nsamples = 52\\nvalue = [13, 39]\\nclass = Died'),\n",
       " Text(197.03389830508476, 97.07142857142861, 'gini = 0.0\\nsamples = 5\\nvalue = [0, 5]\\nclass = Died'),\n",
       " Text(212.79661016949154, 97.07142857142861, 'Age <= 11.0\\ngini = 0.4\\nsamples = 47\\nvalue = [13, 34]\\nclass = Died'),\n",
       " Text(204.91525423728814, 32.35714285714289, 'gini = 0.0\\nsamples = 1\\nvalue = [1, 0]\\nclass = Survived'),\n",
       " Text(220.67796610169492, 32.35714285714289, 'gini = 0.386\\nsamples = 46\\nvalue = [12, 34]\\nclass = Died'),\n",
       " Text(220.67796610169492, 161.78571428571433, 'gini = 0.0\\nsamples = 4\\nvalue = [4, 0]\\nclass = Survived'),\n",
       " Text(312.2987288135593, 355.92857142857144, 'Age <= 6.5\\ngini = 0.306\\nsamples = 577\\nvalue = [468, 109]\\nclass = Survived'),\n",
       " Text(260.08474576271186, 291.2142857142857, 'Pclass <= 2.5\\ngini = 0.444\\nsamples = 24\\nvalue = [8, 16]\\nclass = Died'),\n",
       " Text(252.20338983050848, 226.50000000000003, 'gini = 0.0\\nsamples = 10\\nvalue = [0, 10]\\nclass = Died'),\n",
       " Text(267.96610169491527, 226.50000000000003, 'Embarked <= 1.5\\ngini = 0.49\\nsamples = 14\\nvalue = [8, 6]\\nclass = Survived'),\n",
       " Text(260.08474576271186, 161.78571428571433, 'Age <= 2.5\\ngini = 0.5\\nsamples = 12\\nvalue = [6, 6]\\nclass = Survived'),\n",
       " Text(244.3220338983051, 97.07142857142861, 'Age <= 0.71\\ngini = 0.444\\nsamples = 6\\nvalue = [4, 2]\\nclass = Survived'),\n",
       " Text(236.4406779661017, 32.35714285714289, 'gini = 0.0\\nsamples = 1\\nvalue = [0, 1]\\nclass = Died'),\n",
       " Text(252.20338983050848, 32.35714285714289, 'gini = 0.32\\nsamples = 5\\nvalue = [4, 1]\\nclass = Survived'),\n",
       " Text(275.8474576271187, 97.07142857142861, 'Age <= 3.5\\ngini = 0.444\\nsamples = 6\\nvalue = [2, 4]\\nclass = Died'),\n",
       " Text(267.96610169491527, 32.35714285714289, 'gini = 0.0\\nsamples = 2\\nvalue = [0, 2]\\nclass = Died'),\n",
       " Text(283.728813559322, 32.35714285714289, 'gini = 0.5\\nsamples = 4\\nvalue = [2, 2]\\nclass = Survived'),\n",
       " Text(275.8474576271187, 161.78571428571433, 'gini = 0.0\\nsamples = 2\\nvalue = [2, 0]\\nclass = Survived'),\n",
       " Text(364.5127118644068, 291.2142857142857, 'Pclass <= 1.5\\ngini = 0.28\\nsamples = 553\\nvalue = [460, 93]\\nclass = Survived'),\n",
       " Text(323.135593220339, 226.50000000000003, 'Age <= 53.0\\ngini = 0.46\\nsamples = 120\\nvalue = [77, 43]\\nclass = Survived'),\n",
       " Text(299.49152542372883, 161.78571428571433, 'Age <= 17.5\\ngini = 0.483\\nsamples = 98\\nvalue = [58, 40]\\nclass = Survived'),\n",
       " Text(291.6101694915254, 97.07142857142861, 'gini = 0.0\\nsamples = 2\\nvalue = [0, 2]\\nclass = Died'),\n",
       " Text(307.37288135593224, 97.07142857142861, 'Age <= 22.5\\ngini = 0.478\\nsamples = 96\\nvalue = [58, 38]\\nclass = Survived'),\n",
       " Text(299.49152542372883, 32.35714285714289, 'gini = 0.0\\nsamples = 5\\nvalue = [5, 0]\\nclass = Survived'),\n",
       " Text(315.2542372881356, 32.35714285714289, 'gini = 0.486\\nsamples = 91\\nvalue = [53, 38]\\nclass = Survived'),\n",
       " Text(346.77966101694915, 161.78571428571433, 'Age <= 75.5\\ngini = 0.236\\nsamples = 22\\nvalue = [19, 3]\\nclass = Survived'),\n",
       " Text(338.8983050847458, 97.07142857142861, 'Embarked <= 0.5\\ngini = 0.172\\nsamples = 21\\nvalue = [19, 2]\\nclass = Survived'),\n",
       " Text(331.0169491525424, 32.35714285714289, 'gini = 0.0\\nsamples = 13\\nvalue = [13, 0]\\nclass = Survived'),\n",
       " Text(346.77966101694915, 32.35714285714289, 'gini = 0.375\\nsamples = 8\\nvalue = [6, 2]\\nclass = Survived'),\n",
       " Text(354.66101694915255, 97.07142857142861, 'gini = 0.0\\nsamples = 1\\nvalue = [0, 1]\\nclass = Died'),\n",
       " Text(405.8898305084746, 226.50000000000003, 'Age <= 13.0\\ngini = 0.204\\nsamples = 433\\nvalue = [383, 50]\\nclass = Survived'),\n",
       " Text(378.3050847457627, 161.78571428571433, 'Pclass <= 2.5\\ngini = 0.444\\nsamples = 12\\nvalue = [8, 4]\\nclass = Survived'),\n",
       " Text(370.42372881355936, 97.07142857142861, 'gini = 0.0\\nsamples = 1\\nvalue = [0, 1]\\nclass = Died'),\n",
       " Text(386.1864406779661, 97.07142857142861, 'Age <= 11.5\\ngini = 0.397\\nsamples = 11\\nvalue = [8, 3]\\nclass = Survived'),\n",
       " Text(378.3050847457627, 32.35714285714289, 'gini = 0.32\\nsamples = 10\\nvalue = [8, 2]\\nclass = Survived'),\n",
       " Text(394.0677966101695, 32.35714285714289, 'gini = 0.0\\nsamples = 1\\nvalue = [0, 1]\\nclass = Died'),\n",
       " Text(433.47457627118644, 161.78571428571433, 'Age <= 32.25\\ngini = 0.195\\nsamples = 421\\nvalue = [375, 46]\\nclass = Survived'),\n",
       " Text(417.7118644067797, 97.07142857142861, 'Age <= 30.75\\ngini = 0.221\\nsamples = 316\\nvalue = [276, 40]\\nclass = Survived'),\n",
       " Text(409.8305084745763, 32.35714285714289, 'gini = 0.193\\nsamples = 295\\nvalue = [263, 32]\\nclass = Survived'),\n",
       " Text(425.5932203389831, 32.35714285714289, 'gini = 0.472\\nsamples = 21\\nvalue = [13, 8]\\nclass = Survived'),\n",
       " Text(449.23728813559325, 97.07142857142861, 'Age <= 38.5\\ngini = 0.108\\nsamples = 105\\nvalue = [99, 6]\\nclass = Survived'),\n",
       " Text(441.35593220338984, 32.35714285714289, 'gini = 0.046\\nsamples = 42\\nvalue = [41, 1]\\nclass = Survived'),\n",
       " Text(457.11864406779665, 32.35714285714289, 'gini = 0.146\\nsamples = 63\\nvalue = [58, 5]\\nclass = Survived')]"
      ]
     },
     "execution_count": 49,
     "metadata": {},
     "output_type": "execute_result"
    },
    {
     "data": {
      "image/png": "[encoded data removed]",
      "text/plain": [
       "<Figure size 600x600 with 1 Axes>"
      ]
     },
     "metadata": {
      "needs_background": "light"
     },
     "output_type": "display_data"
    }
   ],
   "source": [
    "fn = feature_cols\n",
    "cn = ['Survived', 'Died']\n",
    "fig, axes = plt.subplots(nrows = 1,ncols = 1,figsize = (2,2), dpi=300)\n",
    "plot_tree(model,\n",
    "               feature_names = fn, \n",
    "               class_names=cn,\n",
    "               filled = True,\n",
    "         )"
   ]
  },
  {
   "cell_type": "markdown",
   "metadata": {},
   "source": [
    "## Dump model"
   ]
  },
  {
   "cell_type": "code",
   "execution_count": 20,
   "metadata": {},
   "outputs": [
    {
     "data": {
      "text/plain": [
       "['model.sav']"
      ]
     },
     "execution_count": 20,
     "metadata": {},
     "output_type": "execute_result"
    }
   ],
   "source": [
    "joblib.dump(model, 'model.sav')"
   ]
  },
  {
   "cell_type": "code",
   "execution_count": null,
   "metadata": {},
   "outputs": [],
   "source": []
  }
 ],
 "metadata": {
  "kernelspec": {
   "display_name": "Python 3",
   "language": "python",
   "name": "python3"
  },
  "language_info": {
   "codemirror_mode": {
    "name": "ipython",
    "version": 3
   },
   "file_extension": ".py",
   "mimetype": "text/x-python",
   "name": "python",
   "nbconvert_exporter": "python",
   "pygments_lexer": "ipython3",
   "version": "3.7.9"
  }
 },
 "nbformat": 4,
 "nbformat_minor": 4
}
